{
  "cells": [
    {
      "cell_type": "markdown",
      "metadata": {
        "papermill": {
          "duration": 0.009113,
          "end_time": "2021-02-19T02:47:19.697407",
          "exception": false,
          "start_time": "2021-02-19T02:47:19.688294",
          "status": "completed"
        },
        "tags": [],
        "id": "IyCBgvZYbl-m"
      },
      "source": [
        "## Clothing Review Rating Prediction  \n",
        "\n",
        "Given *reviews of women's clothing*,predicting whether the rating associated with the review will be **Recomended** or not.\n",
        "\n",
        "We will use a TensorFlow/Keras recurrent neural network to make our predictions."
      ]
    },
    {
      "cell_type": "markdown",
      "source": [
        "## Import dataset & library"
      ],
      "metadata": {
        "id": "Uj1an07tb8D1"
      }
    },
    {
      "cell_type": "code",
      "source": [
        "! pip install kaggle\n",
        "\n",
        "! mkdir ~/.kaggle\n",
        "\n",
        "! cp kaggle.json ~/.kaggle/\n",
        "\n",
        "! chmod 600 ~/.kaggle/kaggle.json\n",
        "\n",
        "! kaggle datasets download nicapotato/womens-ecommerce-clothing-reviews\n",
        "\n",
        "! unzip womens-ecommerce-clothing-reviews.zip\n"
      ],
      "metadata": {
        "colab": {
          "base_uri": "https://localhost:8080/"
        },
        "id": "b3Gk_kT-b6md",
        "outputId": "3a81147e-5875-4778-ed69-296bea669e49"
      },
      "execution_count": 4,
      "outputs": [
        {
          "output_type": "stream",
          "name": "stdout",
          "text": [
            "Requirement already satisfied: kaggle in /usr/local/lib/python3.7/dist-packages (1.5.12)\n",
            "Requirement already satisfied: tqdm in /usr/local/lib/python3.7/dist-packages (from kaggle) (4.63.0)\n",
            "Requirement already satisfied: python-slugify in /usr/local/lib/python3.7/dist-packages (from kaggle) (6.1.1)\n",
            "Requirement already satisfied: six>=1.10 in /usr/local/lib/python3.7/dist-packages (from kaggle) (1.15.0)\n",
            "Requirement already satisfied: urllib3 in /usr/local/lib/python3.7/dist-packages (from kaggle) (1.24.3)\n",
            "Requirement already satisfied: certifi in /usr/local/lib/python3.7/dist-packages (from kaggle) (2021.10.8)\n",
            "Requirement already satisfied: requests in /usr/local/lib/python3.7/dist-packages (from kaggle) (2.23.0)\n",
            "Requirement already satisfied: python-dateutil in /usr/local/lib/python3.7/dist-packages (from kaggle) (2.8.2)\n",
            "Requirement already satisfied: text-unidecode>=1.3 in /usr/local/lib/python3.7/dist-packages (from python-slugify->kaggle) (1.3)\n",
            "Requirement already satisfied: idna<3,>=2.5 in /usr/local/lib/python3.7/dist-packages (from requests->kaggle) (2.10)\n",
            "Requirement already satisfied: chardet<4,>=3.0.2 in /usr/local/lib/python3.7/dist-packages (from requests->kaggle) (3.0.4)\n",
            "mkdir: cannot create directory ‘/root/.kaggle’: File exists\n",
            "Downloading womens-ecommerce-clothing-reviews.zip to /content\n",
            "  0% 0.00/2.79M [00:00<?, ?B/s]\n",
            "100% 2.79M/2.79M [00:00<00:00, 81.1MB/s]\n"
          ]
        }
      ]
    },
    {
      "cell_type": "code",
      "execution_count": 67,
      "metadata": {
        "execution": {
          "iopub.execute_input": "2021-02-19T02:47:19.734994Z",
          "iopub.status.busy": "2021-02-19T02:47:19.734278Z",
          "iopub.status.idle": "2021-02-19T02:47:25.648892Z",
          "shell.execute_reply": "2021-02-19T02:47:25.647727Z"
        },
        "papermill": {
          "duration": 5.927421,
          "end_time": "2021-02-19T02:47:25.649132",
          "exception": false,
          "start_time": "2021-02-19T02:47:19.721711",
          "status": "completed"
        },
        "tags": [],
        "id": "rcmZiixWbl-v"
      },
      "outputs": [],
      "source": [
        "import numpy as np\n",
        "import pandas as pd\n",
        "\n",
        "from sklearn.model_selection import train_test_split\n",
        "from tensorflow.keras.preprocessing.text import Tokenizer\n",
        "from tensorflow.keras.preprocessing.sequence import pad_sequences\n",
        "\n",
        "import tensorflow as tf"
      ]
    },
    {
      "cell_type": "code",
      "execution_count": 7,
      "metadata": {
        "execution": {
          "iopub.execute_input": "2021-02-19T02:47:25.676012Z",
          "iopub.status.busy": "2021-02-19T02:47:25.675498Z",
          "iopub.status.idle": "2021-02-19T02:47:25.913907Z",
          "shell.execute_reply": "2021-02-19T02:47:25.912878Z"
        },
        "papermill": {
          "duration": 0.256171,
          "end_time": "2021-02-19T02:47:25.914062",
          "exception": false,
          "start_time": "2021-02-19T02:47:25.657891",
          "status": "completed"
        },
        "tags": [],
        "id": "HyOd-IEobl-x"
      },
      "outputs": [],
      "source": [
        "data = pd.read_csv('Womens Clothing E-Commerce Reviews.csv')"
      ]
    },
    {
      "cell_type": "code",
      "execution_count": 8,
      "metadata": {
        "execution": {
          "iopub.execute_input": "2021-02-19T02:47:25.954610Z",
          "iopub.status.busy": "2021-02-19T02:47:25.953740Z",
          "iopub.status.idle": "2021-02-19T02:47:25.965692Z",
          "shell.execute_reply": "2021-02-19T02:47:25.966098Z"
        },
        "papermill": {
          "duration": 0.043028,
          "end_time": "2021-02-19T02:47:25.966271",
          "exception": false,
          "start_time": "2021-02-19T02:47:25.923243",
          "status": "completed"
        },
        "tags": [],
        "colab": {
          "base_uri": "https://localhost:8080/",
          "height": 658
        },
        "id": "VfpRgEKMbl-y",
        "outputId": "c3355427-648c-43f4-ba97-4a0c3790f058"
      },
      "outputs": [
        {
          "output_type": "execute_result",
          "data": {
            "text/plain": [
              "       Unnamed: 0  Clothing ID  Age  \\\n",
              "0               0          767   33   \n",
              "1               1         1080   34   \n",
              "2               2         1077   60   \n",
              "3               3         1049   50   \n",
              "4               4          847   47   \n",
              "...           ...          ...  ...   \n",
              "23481       23481         1104   34   \n",
              "23482       23482          862   48   \n",
              "23483       23483         1104   31   \n",
              "23484       23484         1084   28   \n",
              "23485       23485         1104   52   \n",
              "\n",
              "                                                   Title  \\\n",
              "0                                                    NaN   \n",
              "1                                                    NaN   \n",
              "2                                Some major design flaws   \n",
              "3                                       My favorite buy!   \n",
              "4                                       Flattering shirt   \n",
              "...                                                  ...   \n",
              "23481                     Great dress for many occasions   \n",
              "23482                         Wish it was made of cotton   \n",
              "23483                              Cute, but see through   \n",
              "23484  Very cute dress, perfect for summer parties an...   \n",
              "23485                    Please make more like this one!   \n",
              "\n",
              "                                             Review Text  Rating  \\\n",
              "0      Absolutely wonderful - silky and sexy and comf...       4   \n",
              "1      Love this dress!  it's sooo pretty.  i happene...       5   \n",
              "2      I had such high hopes for this dress and reall...       3   \n",
              "3      I love, love, love this jumpsuit. it's fun, fl...       5   \n",
              "4      This shirt is very flattering to all due to th...       5   \n",
              "...                                                  ...     ...   \n",
              "23481  I was very happy to snag this dress at such a ...       5   \n",
              "23482  It reminds me of maternity clothes. soft, stre...       3   \n",
              "23483  This fit well, but the top was very see throug...       3   \n",
              "23484  I bought this dress for a wedding i have this ...       3   \n",
              "23485  This dress in a lovely platinum is feminine an...       5   \n",
              "\n",
              "       Recommended IND  Positive Feedback Count   Division Name  \\\n",
              "0                    1                        0       Initmates   \n",
              "1                    1                        4         General   \n",
              "2                    0                        0         General   \n",
              "3                    1                        0  General Petite   \n",
              "4                    1                        6         General   \n",
              "...                ...                      ...             ...   \n",
              "23481                1                        0  General Petite   \n",
              "23482                1                        0  General Petite   \n",
              "23483                0                        1  General Petite   \n",
              "23484                1                        2         General   \n",
              "23485                1                       22  General Petite   \n",
              "\n",
              "      Department Name Class Name  \n",
              "0            Intimate  Intimates  \n",
              "1             Dresses    Dresses  \n",
              "2             Dresses    Dresses  \n",
              "3             Bottoms      Pants  \n",
              "4                Tops    Blouses  \n",
              "...               ...        ...  \n",
              "23481         Dresses    Dresses  \n",
              "23482            Tops      Knits  \n",
              "23483         Dresses    Dresses  \n",
              "23484         Dresses    Dresses  \n",
              "23485         Dresses    Dresses  \n",
              "\n",
              "[23486 rows x 11 columns]"
            ],
            "text/html": [
              "\n",
              "  <div id=\"df-b568a136-5a5f-4d38-b56a-d84ae4bf96f1\">\n",
              "    <div class=\"colab-df-container\">\n",
              "      <div>\n",
              "<style scoped>\n",
              "    .dataframe tbody tr th:only-of-type {\n",
              "        vertical-align: middle;\n",
              "    }\n",
              "\n",
              "    .dataframe tbody tr th {\n",
              "        vertical-align: top;\n",
              "    }\n",
              "\n",
              "    .dataframe thead th {\n",
              "        text-align: right;\n",
              "    }\n",
              "</style>\n",
              "<table border=\"1\" class=\"dataframe\">\n",
              "  <thead>\n",
              "    <tr style=\"text-align: right;\">\n",
              "      <th></th>\n",
              "      <th>Unnamed: 0</th>\n",
              "      <th>Clothing ID</th>\n",
              "      <th>Age</th>\n",
              "      <th>Title</th>\n",
              "      <th>Review Text</th>\n",
              "      <th>Rating</th>\n",
              "      <th>Recommended IND</th>\n",
              "      <th>Positive Feedback Count</th>\n",
              "      <th>Division Name</th>\n",
              "      <th>Department Name</th>\n",
              "      <th>Class Name</th>\n",
              "    </tr>\n",
              "  </thead>\n",
              "  <tbody>\n",
              "    <tr>\n",
              "      <th>0</th>\n",
              "      <td>0</td>\n",
              "      <td>767</td>\n",
              "      <td>33</td>\n",
              "      <td>NaN</td>\n",
              "      <td>Absolutely wonderful - silky and sexy and comf...</td>\n",
              "      <td>4</td>\n",
              "      <td>1</td>\n",
              "      <td>0</td>\n",
              "      <td>Initmates</td>\n",
              "      <td>Intimate</td>\n",
              "      <td>Intimates</td>\n",
              "    </tr>\n",
              "    <tr>\n",
              "      <th>1</th>\n",
              "      <td>1</td>\n",
              "      <td>1080</td>\n",
              "      <td>34</td>\n",
              "      <td>NaN</td>\n",
              "      <td>Love this dress!  it's sooo pretty.  i happene...</td>\n",
              "      <td>5</td>\n",
              "      <td>1</td>\n",
              "      <td>4</td>\n",
              "      <td>General</td>\n",
              "      <td>Dresses</td>\n",
              "      <td>Dresses</td>\n",
              "    </tr>\n",
              "    <tr>\n",
              "      <th>2</th>\n",
              "      <td>2</td>\n",
              "      <td>1077</td>\n",
              "      <td>60</td>\n",
              "      <td>Some major design flaws</td>\n",
              "      <td>I had such high hopes for this dress and reall...</td>\n",
              "      <td>3</td>\n",
              "      <td>0</td>\n",
              "      <td>0</td>\n",
              "      <td>General</td>\n",
              "      <td>Dresses</td>\n",
              "      <td>Dresses</td>\n",
              "    </tr>\n",
              "    <tr>\n",
              "      <th>3</th>\n",
              "      <td>3</td>\n",
              "      <td>1049</td>\n",
              "      <td>50</td>\n",
              "      <td>My favorite buy!</td>\n",
              "      <td>I love, love, love this jumpsuit. it's fun, fl...</td>\n",
              "      <td>5</td>\n",
              "      <td>1</td>\n",
              "      <td>0</td>\n",
              "      <td>General Petite</td>\n",
              "      <td>Bottoms</td>\n",
              "      <td>Pants</td>\n",
              "    </tr>\n",
              "    <tr>\n",
              "      <th>4</th>\n",
              "      <td>4</td>\n",
              "      <td>847</td>\n",
              "      <td>47</td>\n",
              "      <td>Flattering shirt</td>\n",
              "      <td>This shirt is very flattering to all due to th...</td>\n",
              "      <td>5</td>\n",
              "      <td>1</td>\n",
              "      <td>6</td>\n",
              "      <td>General</td>\n",
              "      <td>Tops</td>\n",
              "      <td>Blouses</td>\n",
              "    </tr>\n",
              "    <tr>\n",
              "      <th>...</th>\n",
              "      <td>...</td>\n",
              "      <td>...</td>\n",
              "      <td>...</td>\n",
              "      <td>...</td>\n",
              "      <td>...</td>\n",
              "      <td>...</td>\n",
              "      <td>...</td>\n",
              "      <td>...</td>\n",
              "      <td>...</td>\n",
              "      <td>...</td>\n",
              "      <td>...</td>\n",
              "    </tr>\n",
              "    <tr>\n",
              "      <th>23481</th>\n",
              "      <td>23481</td>\n",
              "      <td>1104</td>\n",
              "      <td>34</td>\n",
              "      <td>Great dress for many occasions</td>\n",
              "      <td>I was very happy to snag this dress at such a ...</td>\n",
              "      <td>5</td>\n",
              "      <td>1</td>\n",
              "      <td>0</td>\n",
              "      <td>General Petite</td>\n",
              "      <td>Dresses</td>\n",
              "      <td>Dresses</td>\n",
              "    </tr>\n",
              "    <tr>\n",
              "      <th>23482</th>\n",
              "      <td>23482</td>\n",
              "      <td>862</td>\n",
              "      <td>48</td>\n",
              "      <td>Wish it was made of cotton</td>\n",
              "      <td>It reminds me of maternity clothes. soft, stre...</td>\n",
              "      <td>3</td>\n",
              "      <td>1</td>\n",
              "      <td>0</td>\n",
              "      <td>General Petite</td>\n",
              "      <td>Tops</td>\n",
              "      <td>Knits</td>\n",
              "    </tr>\n",
              "    <tr>\n",
              "      <th>23483</th>\n",
              "      <td>23483</td>\n",
              "      <td>1104</td>\n",
              "      <td>31</td>\n",
              "      <td>Cute, but see through</td>\n",
              "      <td>This fit well, but the top was very see throug...</td>\n",
              "      <td>3</td>\n",
              "      <td>0</td>\n",
              "      <td>1</td>\n",
              "      <td>General Petite</td>\n",
              "      <td>Dresses</td>\n",
              "      <td>Dresses</td>\n",
              "    </tr>\n",
              "    <tr>\n",
              "      <th>23484</th>\n",
              "      <td>23484</td>\n",
              "      <td>1084</td>\n",
              "      <td>28</td>\n",
              "      <td>Very cute dress, perfect for summer parties an...</td>\n",
              "      <td>I bought this dress for a wedding i have this ...</td>\n",
              "      <td>3</td>\n",
              "      <td>1</td>\n",
              "      <td>2</td>\n",
              "      <td>General</td>\n",
              "      <td>Dresses</td>\n",
              "      <td>Dresses</td>\n",
              "    </tr>\n",
              "    <tr>\n",
              "      <th>23485</th>\n",
              "      <td>23485</td>\n",
              "      <td>1104</td>\n",
              "      <td>52</td>\n",
              "      <td>Please make more like this one!</td>\n",
              "      <td>This dress in a lovely platinum is feminine an...</td>\n",
              "      <td>5</td>\n",
              "      <td>1</td>\n",
              "      <td>22</td>\n",
              "      <td>General Petite</td>\n",
              "      <td>Dresses</td>\n",
              "      <td>Dresses</td>\n",
              "    </tr>\n",
              "  </tbody>\n",
              "</table>\n",
              "<p>23486 rows × 11 columns</p>\n",
              "</div>\n",
              "      <button class=\"colab-df-convert\" onclick=\"convertToInteractive('df-b568a136-5a5f-4d38-b56a-d84ae4bf96f1')\"\n",
              "              title=\"Convert this dataframe to an interactive table.\"\n",
              "              style=\"display:none;\">\n",
              "        \n",
              "  <svg xmlns=\"http://www.w3.org/2000/svg\" height=\"24px\"viewBox=\"0 0 24 24\"\n",
              "       width=\"24px\">\n",
              "    <path d=\"M0 0h24v24H0V0z\" fill=\"none\"/>\n",
              "    <path d=\"M18.56 5.44l.94 2.06.94-2.06 2.06-.94-2.06-.94-.94-2.06-.94 2.06-2.06.94zm-11 1L8.5 8.5l.94-2.06 2.06-.94-2.06-.94L8.5 2.5l-.94 2.06-2.06.94zm10 10l.94 2.06.94-2.06 2.06-.94-2.06-.94-.94-2.06-.94 2.06-2.06.94z\"/><path d=\"M17.41 7.96l-1.37-1.37c-.4-.4-.92-.59-1.43-.59-.52 0-1.04.2-1.43.59L10.3 9.45l-7.72 7.72c-.78.78-.78 2.05 0 2.83L4 21.41c.39.39.9.59 1.41.59.51 0 1.02-.2 1.41-.59l7.78-7.78 2.81-2.81c.8-.78.8-2.07 0-2.86zM5.41 20L4 18.59l7.72-7.72 1.47 1.35L5.41 20z\"/>\n",
              "  </svg>\n",
              "      </button>\n",
              "      \n",
              "  <style>\n",
              "    .colab-df-container {\n",
              "      display:flex;\n",
              "      flex-wrap:wrap;\n",
              "      gap: 12px;\n",
              "    }\n",
              "\n",
              "    .colab-df-convert {\n",
              "      background-color: #E8F0FE;\n",
              "      border: none;\n",
              "      border-radius: 50%;\n",
              "      cursor: pointer;\n",
              "      display: none;\n",
              "      fill: #1967D2;\n",
              "      height: 32px;\n",
              "      padding: 0 0 0 0;\n",
              "      width: 32px;\n",
              "    }\n",
              "\n",
              "    .colab-df-convert:hover {\n",
              "      background-color: #E2EBFA;\n",
              "      box-shadow: 0px 1px 2px rgba(60, 64, 67, 0.3), 0px 1px 3px 1px rgba(60, 64, 67, 0.15);\n",
              "      fill: #174EA6;\n",
              "    }\n",
              "\n",
              "    [theme=dark] .colab-df-convert {\n",
              "      background-color: #3B4455;\n",
              "      fill: #D2E3FC;\n",
              "    }\n",
              "\n",
              "    [theme=dark] .colab-df-convert:hover {\n",
              "      background-color: #434B5C;\n",
              "      box-shadow: 0px 1px 3px 1px rgba(0, 0, 0, 0.15);\n",
              "      filter: drop-shadow(0px 1px 2px rgba(0, 0, 0, 0.3));\n",
              "      fill: #FFFFFF;\n",
              "    }\n",
              "  </style>\n",
              "\n",
              "      <script>\n",
              "        const buttonEl =\n",
              "          document.querySelector('#df-b568a136-5a5f-4d38-b56a-d84ae4bf96f1 button.colab-df-convert');\n",
              "        buttonEl.style.display =\n",
              "          google.colab.kernel.accessAllowed ? 'block' : 'none';\n",
              "\n",
              "        async function convertToInteractive(key) {\n",
              "          const element = document.querySelector('#df-b568a136-5a5f-4d38-b56a-d84ae4bf96f1');\n",
              "          const dataTable =\n",
              "            await google.colab.kernel.invokeFunction('convertToInteractive',\n",
              "                                                     [key], {});\n",
              "          if (!dataTable) return;\n",
              "\n",
              "          const docLinkHtml = 'Like what you see? Visit the ' +\n",
              "            '<a target=\"_blank\" href=https://colab.research.google.com/notebooks/data_table.ipynb>data table notebook</a>'\n",
              "            + ' to learn more about interactive tables.';\n",
              "          element.innerHTML = '';\n",
              "          dataTable['output_type'] = 'display_data';\n",
              "          await google.colab.output.renderOutput(dataTable, element);\n",
              "          const docLink = document.createElement('div');\n",
              "          docLink.innerHTML = docLinkHtml;\n",
              "          element.appendChild(docLink);\n",
              "        }\n",
              "      </script>\n",
              "    </div>\n",
              "  </div>\n",
              "  "
            ]
          },
          "metadata": {},
          "execution_count": 8
        }
      ],
      "source": [
        "data"
      ]
    },
    {
      "cell_type": "code",
      "execution_count": null,
      "metadata": {
        "execution": {
          "iopub.execute_input": "2021-02-19T02:47:25.998982Z",
          "iopub.status.busy": "2021-02-19T02:47:25.998185Z",
          "iopub.status.idle": "2021-02-19T02:47:26.012718Z",
          "shell.execute_reply": "2021-02-19T02:47:26.012033Z"
        },
        "papermill": {
          "duration": 0.03747,
          "end_time": "2021-02-19T02:47:26.012885",
          "exception": false,
          "start_time": "2021-02-19T02:47:25.975415",
          "status": "completed"
        },
        "tags": [],
        "id": "paexvdQfbl-0",
        "outputId": "ed310a37-83b2-497a-8629-f9501e319fa4"
      },
      "outputs": [
        {
          "name": "stdout",
          "output_type": "stream",
          "text": [
            "<class 'pandas.core.frame.DataFrame'>\n",
            "RangeIndex: 23488 entries, 0 to 23487\n",
            "Data columns (total 11 columns):\n",
            " #   Column                   Non-Null Count  Dtype \n",
            "---  ------                   --------------  ----- \n",
            " 0   Unnamed: 0               23488 non-null  int64 \n",
            " 1   Clothing ID              23488 non-null  int64 \n",
            " 2   Age                      23488 non-null  int64 \n",
            " 3   Title                    19678 non-null  object\n",
            " 4   Review Text              22643 non-null  object\n",
            " 5   Rating                   23488 non-null  int64 \n",
            " 6   Recommended IND          23488 non-null  int64 \n",
            " 7   Positive Feedback Count  23488 non-null  int64 \n",
            " 8   Division Name            23474 non-null  object\n",
            " 9   Department Name          23474 non-null  object\n",
            " 10  Class Name               23474 non-null  object\n",
            "dtypes: int64(6), object(5)\n",
            "memory usage: 2.0+ MB\n"
          ]
        }
      ],
      "source": [
        "data.info()"
      ]
    },
    {
      "cell_type": "code",
      "source": [
        "data.groupby('Rating')['Recommended IND'].value_counts().unstack().plot.bar()"
      ],
      "metadata": {
        "colab": {
          "base_uri": "https://localhost:8080/",
          "height": 293
        },
        "id": "320zKfi0ppn6",
        "outputId": "faaed036-d264-452c-d0ec-ddf826dac4b8"
      },
      "execution_count": 19,
      "outputs": [
        {
          "output_type": "execute_result",
          "data": {
            "text/plain": [
              "<matplotlib.axes._subplots.AxesSubplot at 0x7fb4aced8b90>"
            ]
          },
          "metadata": {},
          "execution_count": 19
        },
        {
          "output_type": "display_data",
          "data": {
            "text/plain": [
              "<Figure size 432x288 with 1 Axes>"
            ],
            "image/png": "[encoded data removed]"
          },
          "metadata": {
            "needs_background": "light"
          }
        }
      ]
    },
    {
      "cell_type": "markdown",
      "metadata": {
        "papermill": {
          "duration": 0.009683,
          "end_time": "2021-02-19T02:47:26.032898",
          "exception": false,
          "start_time": "2021-02-19T02:47:26.023215",
          "status": "completed"
        },
        "tags": [],
        "id": "AVY1c9YBbl-1"
      },
      "source": [
        "# Preprocessing"
      ]
    },
    {
      "cell_type": "code",
      "execution_count": 49,
      "metadata": {
        "execution": {
          "iopub.execute_input": "2021-02-19T02:47:26.061543Z",
          "iopub.status.busy": "2021-02-19T02:47:26.060933Z",
          "iopub.status.idle": "2021-02-19T02:47:26.063947Z",
          "shell.execute_reply": "2021-02-19T02:47:26.063555Z"
        },
        "papermill": {
          "duration": 0.021135,
          "end_time": "2021-02-19T02:47:26.064053",
          "exception": false,
          "start_time": "2021-02-19T02:47:26.042918",
          "status": "completed"
        },
        "tags": [],
        "id": "Rzm3ERZ5bl-2"
      },
      "outputs": [],
      "source": [
        "def preprocess_inputs(df):\n",
        "    df = df.copy()\n",
        "    \n",
        "    # Drop rows with missing reviews\n",
        "    missing_review_rows = df[df['Review Text'].isna()].index\n",
        "    df = df.drop(missing_review_rows, axis=0).reset_index(drop=True)\n",
        "    \n",
        "    \n",
        "    # Use only the review and rating column\n",
        "    y = df['Rating']\n",
        "    X = df['Review Text']\n",
        "    \n",
        "    \n",
        "    # Make binary target with rating more than 4 for as recommended\n",
        "    y = y.apply(lambda x: 1 if x >= 4 else 0)\n",
        "    \n",
        "    \n",
        "    # Split data\n",
        "    X_train, X_test, y_train, y_test = train_test_split(X, y, test_size=0.3, shuffle=True, random_state=40)\n",
        "    \n",
        "    \n",
        "    # Learn the vocabulary\n",
        "    tokenizer = Tokenizer()\n",
        "    tokenizer.fit_on_texts(X_train)\n",
        "    \n",
        "    \n",
        "    # Find the size of the vocabulary\n",
        "    vocab_length = len(tokenizer.word_index) + 1\n",
        "    print(\"Vocab length:\", vocab_length)\n",
        "    \n",
        "    \n",
        "    # Convert review texts into sequences of integers\n",
        "    X_train = tokenizer.texts_to_sequences(X_train)\n",
        "    X_test = tokenizer.texts_to_sequences(X_test)\n",
        "    \n",
        "    \n",
        "    # Find the maximum sequence length\n",
        "    max_seq_length = np.max(list(map(lambda x: len(x), X_train)))\n",
        "    print(\"Maximum sequence length:\", max_seq_length)\n",
        "    \n",
        "    \n",
        "    # Pad the sequences to by uniform length\n",
        "    X_train = pad_sequences(X_train, maxlen=max_seq_length, padding='post')\n",
        "    X_test = pad_sequences(X_test, maxlen=max_seq_length, padding='post')\n",
        "    \n",
        "    \n",
        "    return X_train, X_test, y_train, y_test, vocab_length, max_seq_length"
      ]
    },
    {
      "cell_type": "code",
      "execution_count": 50,
      "metadata": {
        "execution": {
          "iopub.execute_input": "2021-02-19T02:47:26.087196Z",
          "iopub.status.busy": "2021-02-19T02:47:26.086430Z",
          "iopub.status.idle": "2021-02-19T02:47:27.992571Z",
          "shell.execute_reply": "2021-02-19T02:47:27.991325Z"
        },
        "papermill": {
          "duration": 1.919059,
          "end_time": "2021-02-19T02:47:27.992714",
          "exception": false,
          "start_time": "2021-02-19T02:47:26.073655",
          "status": "completed"
        },
        "tags": [],
        "colab": {
          "base_uri": "https://localhost:8080/"
        },
        "id": "8ny4TUp8bl-3",
        "outputId": "29bad660-0acd-448a-c070-fa2074975e6d"
      },
      "outputs": [
        {
          "output_type": "stream",
          "name": "stdout",
          "text": [
            "Vocab length: 12764\n",
            "Maximum sequence length: 116\n"
          ]
        }
      ],
      "source": [
        "X_train, X_test, y_train, y_test, VOCAB_LENGTH, MAX_SEQ_LENGTH = preprocess_inputs(data)"
      ]
    },
    {
      "cell_type": "code",
      "execution_count": 51,
      "metadata": {
        "execution": {
          "iopub.execute_input": "2021-02-19T02:47:28.017892Z",
          "iopub.status.busy": "2021-02-19T02:47:28.017060Z",
          "iopub.status.idle": "2021-02-19T02:47:28.020678Z",
          "shell.execute_reply": "2021-02-19T02:47:28.020281Z"
        },
        "papermill": {
          "duration": 0.017231,
          "end_time": "2021-02-19T02:47:28.020801",
          "exception": false,
          "start_time": "2021-02-19T02:47:28.003570",
          "status": "completed"
        },
        "tags": [],
        "colab": {
          "base_uri": "https://localhost:8080/"
        },
        "id": "0XI4n9N0bl-4",
        "outputId": "69a865ac-cb2b-4e2e-ceaa-7d8f1a695bff"
      },
      "outputs": [
        {
          "output_type": "execute_result",
          "data": {
            "text/plain": [
              "(15848, 116)"
            ]
          },
          "metadata": {},
          "execution_count": 51
        }
      ],
      "source": [
        "X_train.shape"
      ]
    },
    {
      "cell_type": "code",
      "execution_count": 52,
      "metadata": {
        "execution": {
          "iopub.execute_input": "2021-02-19T02:47:28.045515Z",
          "iopub.status.busy": "2021-02-19T02:47:28.044746Z",
          "iopub.status.idle": "2021-02-19T02:47:28.048065Z",
          "shell.execute_reply": "2021-02-19T02:47:28.048566Z"
        },
        "papermill": {
          "duration": 0.017485,
          "end_time": "2021-02-19T02:47:28.048683",
          "exception": false,
          "start_time": "2021-02-19T02:47:28.031198",
          "status": "completed"
        },
        "tags": [],
        "colab": {
          "base_uri": "https://localhost:8080/"
        },
        "id": "RryjLRtFbl-5",
        "outputId": "be33090d-3026-4b1f-b8d5-fd434f779337"
      },
      "outputs": [
        {
          "output_type": "execute_result",
          "data": {
            "text/plain": [
              "(6793, 116)"
            ]
          },
          "metadata": {},
          "execution_count": 52
        }
      ],
      "source": [
        "X_test.shape"
      ]
    },
    {
      "cell_type": "markdown",
      "metadata": {
        "papermill": {
          "duration": 0.011604,
          "end_time": "2021-02-19T02:47:28.070935",
          "exception": false,
          "start_time": "2021-02-19T02:47:28.059331",
          "status": "completed"
        },
        "tags": [],
        "id": "bIuwyNM-bl-5"
      },
      "source": [
        "# Model training"
      ]
    },
    {
      "cell_type": "code",
      "execution_count": 54,
      "metadata": {
        "execution": {
          "iopub.execute_input": "2021-02-19T02:47:28.098550Z",
          "iopub.status.busy": "2021-02-19T02:47:28.098029Z",
          "iopub.status.idle": "2021-02-19T02:47:32.011887Z",
          "shell.execute_reply": "2021-02-19T02:47:32.012600Z"
        },
        "papermill": {
          "duration": 3.930929,
          "end_time": "2021-02-19T02:47:32.012764",
          "exception": false,
          "start_time": "2021-02-19T02:47:28.081835",
          "status": "completed"
        },
        "tags": [],
        "colab": {
          "base_uri": "https://localhost:8080/",
          "height": 681
        },
        "id": "5KeS_9aGbl-6",
        "outputId": "3306bae5-0ea1-4586-d7d1-3e532ae02c09"
      },
      "outputs": [
        {
          "output_type": "stream",
          "name": "stdout",
          "text": [
            "Model: \"model\"\n",
            "_________________________________________________________________\n",
            " Layer (type)                Output Shape              Param #   \n",
            "=================================================================\n",
            " input_2 (InputLayer)        [(None, 116)]             0         \n",
            "                                                                 \n",
            " embedding_1 (Embedding)     (None, 116, 128)          1633792   \n",
            "                                                                 \n",
            " flatten_1 (Flatten)         (None, 14848)             0         \n",
            "                                                                 \n",
            " dense (Dense)               (None, 1)                 14849     \n",
            "                                                                 \n",
            "=================================================================\n",
            "Total params: 1,648,641\n",
            "Trainable params: 1,648,641\n",
            "Non-trainable params: 0\n",
            "_________________________________________________________________\n",
            "None\n"
          ]
        },
        {
          "output_type": "execute_result",
          "data": {
            "text/plain": [
              "<IPython.core.display.Image object>"
            ],
            "image/png": "[encoded data removed]"
          },
          "metadata": {},
          "execution_count": 54
        }
      ],
      "source": [
        "inputs = tf.keras.Input(shape=(X_train.shape[1],))\n",
        "\n",
        "word_embedding = tf.keras.layers.Embedding(     #  Applied Embeded method layers\n",
        "    input_dim=VOCAB_LENGTH,\n",
        "    output_dim=128,\n",
        "    input_length=MAX_SEQ_LENGTH\n",
        ")(inputs) \n",
        "\n",
        "\n",
        "gru = tf.keras.layers.GRU(256, return_sequences=False, activation='tanh')(word_embedding)  # LSTM layers\n",
        "word_flatten = tf.keras.layers.Flatten()(word_embedding)  # Flatten dimenson\n",
        "\n",
        "outputs = tf.keras.layers.Dense(1, activation='sigmoid')(word_flatten)\n",
        "\n",
        "\n",
        "model = tf.keras.Model(inputs=inputs, outputs=outputs)\n",
        "\n",
        "print(model.summary())\n",
        "tf.keras.utils.plot_model(model)"
      ]
    },
    {
      "cell_type": "code",
      "execution_count": 55,
      "metadata": {
        "execution": {
          "iopub.execute_input": "2021-02-19T02:47:32.050545Z",
          "iopub.status.busy": "2021-02-19T02:47:32.049752Z",
          "iopub.status.idle": "2021-02-19T02:48:24.910257Z",
          "shell.execute_reply": "2021-02-19T02:48:24.909785Z"
        },
        "papermill": {
          "duration": 52.885639,
          "end_time": "2021-02-19T02:48:24.910412",
          "exception": false,
          "start_time": "2021-02-19T02:47:32.024773",
          "status": "completed"
        },
        "tags": [],
        "colab": {
          "base_uri": "https://localhost:8080/"
        },
        "id": "AeimZKUebl-7",
        "outputId": "2e709c8c-4f3b-4766-e9f8-cf2a27b4d9f9"
      },
      "outputs": [
        {
          "output_type": "stream",
          "name": "stdout",
          "text": [
            "Epoch 1/100\n",
            "397/397 [==============================] - 10s 23ms/step - loss: 0.4069 - accuracy: 0.8162 - val_loss: 0.3000 - val_accuracy: 0.8779\n",
            "Epoch 2/100\n",
            "397/397 [==============================] - 9s 22ms/step - loss: 0.2185 - accuracy: 0.9141 - val_loss: 0.2981 - val_accuracy: 0.8729\n",
            "Epoch 3/100\n",
            "397/397 [==============================] - 8s 21ms/step - loss: 0.1151 - accuracy: 0.9654 - val_loss: 0.3155 - val_accuracy: 0.8722\n",
            "Epoch 4/100\n",
            "397/397 [==============================] - 8s 21ms/step - loss: 0.0532 - accuracy: 0.9885 - val_loss: 0.3370 - val_accuracy: 0.8735\n",
            "Epoch 5/100\n",
            "397/397 [==============================] - 9s 24ms/step - loss: 0.0261 - accuracy: 0.9968 - val_loss: 0.3652 - val_accuracy: 0.8710\n",
            "Epoch 6/100\n",
            "397/397 [==============================] - 10s 26ms/step - loss: 0.0146 - accuracy: 0.9984 - val_loss: 0.4046 - val_accuracy: 0.8672\n",
            "Epoch 7/100\n",
            "397/397 [==============================] - 9s 22ms/step - loss: 0.0087 - accuracy: 0.9995 - val_loss: 0.4150 - val_accuracy: 0.8729\n",
            "Epoch 8/100\n",
            "397/397 [==============================] - 9s 22ms/step - loss: 0.0055 - accuracy: 0.9998 - val_loss: 0.4421 - val_accuracy: 0.8703\n"
          ]
        }
      ],
      "source": [
        "model.compile(\n",
        "    optimizer='adam',\n",
        "    loss='binary_crossentropy',\n",
        "    metrics=['accuracy']\n",
        ")\n",
        "\n",
        "\n",
        "history = model.fit(\n",
        "    X_train,\n",
        "    y_train,\n",
        "    validation_split=0.2,\n",
        "    batch_size=32,\n",
        "    epochs=100,\n",
        "    callbacks=[\n",
        "        tf.keras.callbacks.EarlyStopping(\n",
        "            monitor='val_loss',\n",
        "            patience=6,\n",
        "            restore_best_weights=True\n",
        "        )\n",
        "    ]\n",
        ")"
      ]
    },
    {
      "cell_type": "markdown",
      "metadata": {
        "papermill": {
          "duration": 0.1908,
          "end_time": "2021-02-19T02:48:25.294559",
          "exception": false,
          "start_time": "2021-02-19T02:48:25.103759",
          "status": "completed"
        },
        "tags": [],
        "id": "TOcQCWhfbl-7"
      },
      "source": [
        "# Results"
      ]
    },
    {
      "cell_type": "code",
      "execution_count": 56,
      "metadata": {
        "execution": {
          "iopub.execute_input": "2021-02-19T02:48:25.682028Z",
          "iopub.status.busy": "2021-02-19T02:48:25.681187Z",
          "iopub.status.idle": "2021-02-19T02:48:26.672541Z",
          "shell.execute_reply": "2021-02-19T02:48:26.671453Z"
        },
        "papermill": {
          "duration": 1.187076,
          "end_time": "2021-02-19T02:48:26.672676",
          "exception": false,
          "start_time": "2021-02-19T02:48:25.485600",
          "status": "completed"
        },
        "tags": [],
        "colab": {
          "base_uri": "https://localhost:8080/"
        },
        "id": "B5bvoVq_bl-8",
        "outputId": "1b760dc1-6ad2-4aa4-e35a-e1c98418722a"
      },
      "outputs": [
        {
          "output_type": "stream",
          "name": "stdout",
          "text": [
            "213/213 [==============================] - 1s 3ms/step - loss: 0.2996 - accuracy: 0.8746\n"
          ]
        },
        {
          "output_type": "execute_result",
          "data": {
            "text/plain": [
              "[0.2996231019496918, 0.87457674741745]"
            ]
          },
          "metadata": {},
          "execution_count": 56
        }
      ],
      "source": [
        "model.evaluate(X_test, y_test)"
      ]
    },
    {
      "cell_type": "code",
      "source": [
        "from sklearn.metrics import confusion_matrix, classification_report  # import metrics evaluate model\n",
        "import matplotlib.pyplot as plt\n",
        "import seaborn as sns"
      ],
      "metadata": {
        "id": "uBKlvPmzx7CH"
      },
      "execution_count": 96,
      "outputs": []
    },
    {
      "cell_type": "code",
      "source": [
        "def get_pred(test, threshold = 0.5):   # define function evaluate metric with threshold\n",
        "  pred = np.squeeze(model.predict(test))\n",
        "  pred = list(map(lambda x: 1 if x > threshold else 0, pred))\n",
        "  metrics = confusion_matrix(y_test, pred)\n",
        "\n",
        "  report = classification_report(y_test, pred)\n",
        "\n",
        "  plt.figure(figsize = (8,8))\n",
        "  sns.heatmap(metrics,annot=True, fmt='', cmap='Blues', cbar = False)\n",
        "  plt.xlabel('Prediction')\n",
        "  plt.ylabel('Actual')\n",
        "  plt.xticks(ticks = [0.5,1.5], labels = [0,1])\n",
        "  plt.yticks(ticks = [0.5,1.5], labels = [0,1])\n",
        "  plt.show()\n",
        "\n",
        "  print('*********************** Classification Report : \\n\\n', report)\n",
        "\n",
        "  return pred\n"
      ],
      "metadata": {
        "id": "1DV_r3atxILW"
      },
      "execution_count": 92,
      "outputs": []
    },
    {
      "cell_type": "code",
      "source": [
        "pred = get_pred(X_test)"
      ],
      "metadata": {
        "colab": {
          "base_uri": "https://localhost:8080/",
          "height": 687
        },
        "id": "GoXLdEByxWtl",
        "outputId": "5b8e8c12-4c7d-46fe-977d-72563be278ee"
      },
      "execution_count": 93,
      "outputs": [
        {
          "output_type": "display_data",
          "data": {
            "text/plain": [
              "<Figure size 576x576 with 1 Axes>"
            ],
            "image/png": "[encoded data removed]"
          },
          "metadata": {
            "needs_background": "light"
          }
        },
        {
          "output_type": "stream",
          "name": "stdout",
          "text": [
            "*********************** Classification Report : \n",
            "\n",
            "               precision    recall  f1-score   support\n",
            "\n",
            "           0       0.81      0.60      0.69      1584\n",
            "           1       0.89      0.96      0.92      5209\n",
            "\n",
            "    accuracy                           0.87      6793\n",
            "   macro avg       0.85      0.78      0.81      6793\n",
            "weighted avg       0.87      0.87      0.87      6793\n",
            "\n"
          ]
        }
      ]
    },
    {
      "cell_type": "code",
      "source": [
        "pred = get_pred(X_test, threshold = 0.7)  #  increase threshold to see other result"
      ],
      "metadata": {
        "colab": {
          "base_uri": "https://localhost:8080/",
          "height": 687
        },
        "id": "hmIw5f6LxceR",
        "outputId": "c67a34e8-3e37-4011-b9b6-f996e7dec33a"
      },
      "execution_count": 99,
      "outputs": [
        {
          "output_type": "display_data",
          "data": {
            "text/plain": [
              "<Figure size 576x576 with 1 Axes>"
            ],
            "image/png": "[encoded data removed]"
          },
          "metadata": {
            "needs_background": "light"
          }
        },
        {
          "output_type": "stream",
          "name": "stdout",
          "text": [
            "*********************** Classification Report : \n",
            "\n",
            "               precision    recall  f1-score   support\n",
            "\n",
            "           0       0.73      0.74      0.74      1584\n",
            "           1       0.92      0.92      0.92      5209\n",
            "\n",
            "    accuracy                           0.88      6793\n",
            "   macro avg       0.83      0.83      0.83      6793\n",
            "weighted avg       0.88      0.88      0.88      6793\n",
            "\n"
          ]
        }
      ]
    },
    {
      "cell_type": "code",
      "source": [
        ""
      ],
      "metadata": {
        "id": "zOc-ITNkyHiw"
      },
      "execution_count": null,
      "outputs": []
    }
  ],
  "metadata": {
    "kernelspec": {
      "display_name": "Python 3",
      "language": "python",
      "name": "python3"
    },
    "language_info": {
      "codemirror_mode": {
        "name": "ipython",
        "version": 3
      },
      "file_extension": ".py",
      "mimetype": "text/x-python",
      "name": "python",
      "nbconvert_exporter": "python",
      "pygments_lexer": "ipython3",
      "version": "3.7.9"
    },
    "papermill": {
      "default_parameters": {},
      "duration": 75.880738,
      "end_time": "2021-02-19T02:48:30.368215",
      "environment_variables": {},
      "exception": null,
      "input_path": "__notebook__.ipynb",
      "output_path": "__notebook__.ipynb",
      "parameters": {},
      "start_time": "2021-02-19T02:47:14.487477",
      "version": "2.2.2"
    },
    "colab": {
      "name": "Clothing_review_Recommend_prediction_tensorflow.ipynb",
      "provenance": []
    }
  },
  "nbformat": 4,
  "nbformat_minor": 0
}